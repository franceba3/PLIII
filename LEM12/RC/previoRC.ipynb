{
 "cells": [
  {
   "cell_type": "code",
   "execution_count": 19,
   "id": "5926cc19",
   "metadata": {},
   "outputs": [],
   "source": [
    "from numpy import pi, linspace\n",
    "import matplotlib.pyplot as plt"
   ]
  },
  {
   "cell_type": "code",
   "execution_count": 21,
   "id": "f72af529",
   "metadata": {},
   "outputs": [],
   "source": [
    "T = lambda R, C, f : R * (R**2 + (2*pi*f*C)**-2)**-.5"
   ]
  },
  {
   "cell_type": "code",
   "execution_count": 36,
   "id": "3b3c188b",
   "metadata": {},
   "outputs": [
    {
     "name": "stdout",
     "output_type": "stream",
     "text": [
      "0.3089490195137561\n",
      "0.5448004986536581\n",
      "0.6728603006757649\n",
      "0.7071076806644861\n"
     ]
    }
   ],
   "source": [
    "print(T(22000, 4.7e-9, 500))\n",
    "print(T(22000, 4.7e-9, 1000))\n",
    "print(T(22000, 4.7e-9, 1400))\n",
    "print(T(22000, 4.7e-9, 1539.22))"
   ]
  },
  {
   "cell_type": "code",
   "execution_count": 40,
   "id": "bcb223e8",
   "metadata": {},
   "outputs": [
    {
     "name": "stdout",
     "output_type": "stream",
     "text": [
      "0.7924794779124272\n",
      "0.8515435787750052\n",
      "0.8897265819695798\n"
     ]
    }
   ],
   "source": [
    "print(T(22000, 4.7e-9, 2000))\n",
    "print(T(22000, 4.7e-9, 2500))\n",
    "print(T(22000, 4.7e-9, 3000))"
   ]
  },
  {
   "cell_type": "code",
   "execution_count": 29,
   "id": "b598c2f1",
   "metadata": {},
   "outputs": [
    {
     "name": "stderr",
     "output_type": "stream",
     "text": [
      "/var/folders/3l/zk74jzgx1f7gk7y71bk5s9f40000gn/T/ipykernel_3951/3020099160.py:1: RuntimeWarning: divide by zero encountered in power\n",
      "  T = lambda R, C, f : R * (R**2 + (2*pi*f*C)**-2)**-.5\n"
     ]
    },
    {
     "data": {
      "text/plain": [
       "[<matplotlib.lines.Line2D at 0x7f9ded9a6040>]"
      ]
     },
     "execution_count": 29,
     "metadata": {},
     "output_type": "execute_result"
    },
    {
     "data": {
      "image/png": "[encoded data removed]",
      "text/plain": [
       "<Figure size 432x288 with 1 Axes>"
      ]
     },
     "metadata": {
      "needs_background": "light"
     },
     "output_type": "display_data"
    }
   ],
   "source": [
    "plt.plot(linspace(0, 20000, 100), T(22000, 4.7e-9, linspace(0, 20000, 100)))"
   ]
  },
  {
   "cell_type": "code",
   "execution_count": null,
   "id": "138f19c1",
   "metadata": {},
   "outputs": [],
   "source": []
  }
 ],
 "metadata": {
  "kernelspec": {
   "display_name": "Python 3 (ipykernel)",
   "language": "python",
   "name": "python3"
  },
  "language_info": {
   "codemirror_mode": {
    "name": "ipython",
    "version": 3
   },
   "file_extension": ".py",
   "mimetype": "text/x-python",
   "name": "python",
   "nbconvert_exporter": "python",
   "pygments_lexer": "ipython3",
   "version": "3.9.7"
  }
 },
 "nbformat": 4,
 "nbformat_minor": 5
}
