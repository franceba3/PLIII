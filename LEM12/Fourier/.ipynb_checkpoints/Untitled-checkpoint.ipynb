{
 "cells": [
  {
   "cell_type": "markdown",
   "id": "a01ebdf0",
   "metadata": {},
   "source": [
    "$\\textbf{1. Gráfica de la señal y el espectro.}$"
   ]
  },
  {
   "cell_type": "markdown",
   "id": "ce225750",
   "metadata": {},
   "source": [
    "1a. Onda sinusoidal, frecuencia 1kHz."
   ]
  },
  {
   "cell_type": "code",
   "execution_count": null,
   "id": "6f50b8e1",
   "metadata": {},
   "outputs": [],
   "source": [
    "\n",
    "set_plot_dimensions <- function(width_choice, height_choice) {\n",
    "        options(repr.plot.width = width_choice, \n",
    "                repr.plot.height = height_choice)\n",
    "        }\n",
    "\n",
    "df <- read.table(\"data/01sinusoidal\", header = FALSE, sep = \"\\t\", dec = \",\")\n",
    "dfapprox <- approxfun(df$V1, df$V2, method = \"linear\")\n",
    "\n",
    "par(bg = \"#f7f7f7\") #Fondo gris claro para la gráfica\n",
    "\n",
    "plot(df$V1, df$V2, pch = 16, cex = .5, \n",
    "     width = 550, height = 330, unit = \"px\")\n",
    "\n",
    "set_plot_dimensions(800, 600)\n",
    "\n",
    "curve(dfapprox, add = TRUE, col = \"red\")\n",
    "\n"
   ]
  },
  {
   "cell_type": "code",
   "execution_count": null,
   "id": "9f912152",
   "metadata": {},
   "outputs": [],
   "source": []
  },
  {
   "cell_type": "code",
   "execution_count": null,
   "id": "ed084558",
   "metadata": {},
   "outputs": [],
   "source": []
  }
 ],
 "metadata": {
  "kernelspec": {
   "display_name": "R",
   "language": "R",
   "name": "ir"
  },
  "language_info": {
   "codemirror_mode": "r",
   "file_extension": ".r",
   "mimetype": "text/x-r-source",
   "name": "R",
   "pygments_lexer": "r",
   "version": "3.6.1"
  }
 },
 "nbformat": 4,
 "nbformat_minor": 5
}
